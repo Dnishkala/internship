{
  "nbformat": 4,
  "nbformat_minor": 0,
  "metadata": {
    "colab": {
      "name": "ml2.ipynb",
      "version": "0.3.2",
      "provenance": [],
      "include_colab_link": true
    },
    "kernelspec": {
      "name": "python3",
      "display_name": "Python 3"
    }
  },
  "cells": [
    {
      "cell_type": "markdown",
      "metadata": {
        "id": "view-in-github",
        "colab_type": "text"
      },
      "source": [
        "<a href=\"https://colab.research.google.com/github/Dnishkala/internship/blob/master/ml2.ipynb\" target=\"_parent\"><img src=\"https://colab.research.google.com/assets/colab-badge.svg\" alt=\"Open In Colab\"/></a>"
      ]
    },
    {
      "cell_type": "markdown",
      "metadata": {
        "id": "xRoGXnBofPBw",
        "colab_type": "text"
      },
      "source": [
        "Functions,To check number prime or not"
      ]
    },
    {
      "cell_type": "code",
      "metadata": {
        "id": "shdyMtqkfSx4",
        "colab_type": "code",
        "colab": {
          "base_uri": "https://localhost:8080/",
          "height": 1000
        },
        "outputId": "ec966bcf-0eef-40bd-fcaf-b34c77f65914"
      },
      "source": [
        "def is_prime(n):\n",
        "    for i in range(2, n):\n",
        "        if n % i==0:\n",
        "            return False\n",
        "    return True\n",
        "  \n",
        "n=input(\"enter a number:\")\n",
        "for x in range(2,int(n)):\n",
        "    if is_prime(x):\n",
        "        print(x,\"is prime\")\n",
        "    else:\n",
        "        print(x,\"is not prime\")"
      ],
      "execution_count": 5,
      "outputs": [
        {
          "output_type": "stream",
          "text": [
            "enter a number:100\n",
            "2 is prime\n",
            "3 is prime\n",
            "4 is not prime\n",
            "5 is prime\n",
            "6 is not prime\n",
            "7 is prime\n",
            "8 is not prime\n",
            "9 is not prime\n",
            "10 is not prime\n",
            "11 is prime\n",
            "12 is not prime\n",
            "13 is prime\n",
            "14 is not prime\n",
            "15 is not prime\n",
            "16 is not prime\n",
            "17 is prime\n",
            "18 is not prime\n",
            "19 is prime\n",
            "20 is not prime\n",
            "21 is not prime\n",
            "22 is not prime\n",
            "23 is prime\n",
            "24 is not prime\n",
            "25 is not prime\n",
            "26 is not prime\n",
            "27 is not prime\n",
            "28 is not prime\n",
            "29 is prime\n",
            "30 is not prime\n",
            "31 is prime\n",
            "32 is not prime\n",
            "33 is not prime\n",
            "34 is not prime\n",
            "35 is not prime\n",
            "36 is not prime\n",
            "37 is prime\n",
            "38 is not prime\n",
            "39 is not prime\n",
            "40 is not prime\n",
            "41 is prime\n",
            "42 is not prime\n",
            "43 is prime\n",
            "44 is not prime\n",
            "45 is not prime\n",
            "46 is not prime\n",
            "47 is prime\n",
            "48 is not prime\n",
            "49 is not prime\n",
            "50 is not prime\n",
            "51 is not prime\n",
            "52 is not prime\n",
            "53 is prime\n",
            "54 is not prime\n",
            "55 is not prime\n",
            "56 is not prime\n",
            "57 is not prime\n",
            "58 is not prime\n",
            "59 is prime\n",
            "60 is not prime\n",
            "61 is prime\n",
            "62 is not prime\n",
            "63 is not prime\n",
            "64 is not prime\n",
            "65 is not prime\n",
            "66 is not prime\n",
            "67 is prime\n",
            "68 is not prime\n",
            "69 is not prime\n",
            "70 is not prime\n",
            "71 is prime\n",
            "72 is not prime\n",
            "73 is prime\n",
            "74 is not prime\n",
            "75 is not prime\n",
            "76 is not prime\n",
            "77 is not prime\n",
            "78 is not prime\n",
            "79 is prime\n",
            "80 is not prime\n",
            "81 is not prime\n",
            "82 is not prime\n",
            "83 is prime\n",
            "84 is not prime\n",
            "85 is not prime\n",
            "86 is not prime\n",
            "87 is not prime\n",
            "88 is not prime\n",
            "89 is prime\n",
            "90 is not prime\n",
            "91 is not prime\n",
            "92 is not prime\n",
            "93 is not prime\n",
            "94 is not prime\n",
            "95 is not prime\n",
            "96 is not prime\n",
            "97 is prime\n",
            "98 is not prime\n",
            "99 is not prime\n"
          ],
          "name": "stdout"
        }
      ]
    }
  ]
}