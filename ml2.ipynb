{
  "nbformat": 4,
  "nbformat_minor": 0,
  "metadata": {
    "colab": {
      "name": "ml2.ipynb",
      "version": "0.3.2",
      "provenance": [],
      "include_colab_link": true
    },
    "kernelspec": {
      "name": "python3",
      "display_name": "Python 3"
    }
  },
  "cells": [
    {
      "cell_type": "markdown",
      "metadata": {
        "id": "view-in-github",
        "colab_type": "text"
      },
      "source": [
        "<a href=\"https://colab.research.google.com/github/Dnishkala/internship/blob/master/ml2.ipynb\" target=\"_parent\"><img src=\"https://colab.research.google.com/assets/colab-badge.svg\" alt=\"Open In Colab\"/></a>"
      ]
    },
    {
      "cell_type": "markdown",
      "metadata": {
        "id": "xRoGXnBofPBw",
        "colab_type": "text"
      },
      "source": [
        "Functions,To check number prime or not"
      ]
    },
    {
      "cell_type": "code",
      "metadata": {
        "id": "shdyMtqkfSx4",
        "colab_type": "code",
        "colab": {
          "base_uri": "https://localhost:8080/",
          "height": 102
        },
        "outputId": "7d42037b-5e39-4d40-a03e-4b4c241392f5"
      },
      "source": [
        "def is_prime(n):\n",
        "    for i in range(2, n):\n",
        "        if n % i==0:\n",
        "            return False\n",
        "    return True\n",
        "  \n",
        "n=input(\"enter a number:\")\n",
        "for x in range(2,int(n)):\n",
        "    if is_prime(x):\n",
        "        print(x,\"is prime\")\n",
        "    else:\n",
        "        print(x,\"is not prime\")"
      ],
      "execution_count": 11,
      "outputs": [
        {
          "output_type": "stream",
          "text": [
            "enter a number:6\n",
            "2 is prime\n",
            "3 is prime\n",
            "4 is not prime\n",
            "5 is prime\n"
          ],
          "name": "stdout"
        }
      ]
    },
    {
      "cell_type": "code",
      "metadata": {
        "id": "B4baM9ISklIY",
        "colab_type": "code",
        "colab": {
          "base_uri": "https://localhost:8080/",
          "height": 170
        },
        "outputId": "2921c4e2-5aa2-4b70-c091-94b228102dba"
      },
      "source": [
        "num=11\n",
        "if num>1:\n",
        "    for i in range(2,num):\n",
        "        if (num%i)==0:\n",
        "            print(num,\"is not a prime\")\n",
        "            print(i,\"times\",num//i,\"is\",num)\n",
        "            break\n",
        "        else:\n",
        "            print(num,\"is prime number\")\n",
        "else:\n",
        "    print(num,\"not a prime number\")"
      ],
      "execution_count": 32,
      "outputs": [
        {
          "output_type": "stream",
          "text": [
            "11 is prime numbere\n",
            "11 is prime numbere\n",
            "11 is prime numbere\n",
            "11 is prime numbere\n",
            "11 is prime numbere\n",
            "11 is prime numbere\n",
            "11 is prime numbere\n",
            "11 is prime numbere\n",
            "11 is prime numbere\n"
          ],
          "name": "stdout"
        }
      ]
    },
    {
      "cell_type": "code",
      "metadata": {
        "id": "Fh3LP2hgtDyy",
        "colab_type": "code",
        "colab": {
          "base_uri": "https://localhost:8080/",
          "height": 51
        },
        "outputId": "718c4056-5ce9-4644-dd31-6b7f17833e9c"
      },
      "source": [
        "\n",
        "num = int(input(\"enter a number: \"))\n",
        " \n",
        "for i in range(2, num):\n",
        "\tif num % i  == 0:\n",
        "\t\tprint(\"not prime number\")\n",
        "\t\tbreak\n",
        "else:\n",
        "\tprint(\"prime number\")\n"
      ],
      "execution_count": 34,
      "outputs": [
        {
          "output_type": "stream",
          "text": [
            "enter a number: 13\n",
            "prime number\n"
          ],
          "name": "stdout"
        }
      ]
    },
    {
      "cell_type": "markdown",
      "metadata": {
        "id": "95feGHrF2-u3",
        "colab_type": "text"
      },
      "source": [
        "checking even or odd numbers"
      ]
    },
    {
      "cell_type": "code",
      "metadata": {
        "id": "ZqIQS9W-ya4R",
        "colab_type": "code",
        "colab": {
          "base_uri": "https://localhost:8080/",
          "height": 51
        },
        "outputId": "86227b8e-b1f4-4840-d587-e9dba58937b6"
      },
      "source": [
        "nume=int(input(\"Enter a number:\"))\n",
        "mod=nume%2\n",
        "if mod>0:\n",
        "    print(\"this is an odd number\")\n",
        "else:\n",
        "    print(\"this is even number\")\n"
      ],
      "execution_count": 42,
      "outputs": [
        {
          "output_type": "stream",
          "text": [
            "Enter a number:2\n",
            "this is even number\n"
          ],
          "name": "stdout"
        }
      ]
    },
    {
      "cell_type": "markdown",
      "metadata": {
        "id": "7pVGAExT3FEN",
        "colab_type": "text"
      },
      "source": [
        "printing even numbers"
      ]
    },
    {
      "cell_type": "code",
      "metadata": {
        "id": "2_JWSzYauTKj",
        "colab_type": "code",
        "colab": {
          "base_uri": "https://localhost:8080/",
          "height": 34
        },
        "outputId": "49f04cb7-7091-448b-ced0-9346b4ae527c"
      },
      "source": [
        "start=1\n",
        "end =100\n",
        "for nume in range(start,end+1):\n",
        "    if nume % 2 ==0:\n",
        "        print(nume, end=\" \")"
      ],
      "execution_count": 38,
      "outputs": [
        {
          "output_type": "stream",
          "text": [
            "2 4 6 8 10 12 14 16 18 20 22 24 26 28 30 32 34 36 38 40 42 44 46 48 50 52 54 56 58 60 62 64 66 68 70 72 74 76 78 80 82 84 86 88 90 92 94 96 98 100 "
          ],
          "name": "stdout"
        }
      ]
    },
    {
      "cell_type": "code",
      "metadata": {
        "id": "Qqw1CBitxXQk",
        "colab_type": "code",
        "colab": {}
      },
      "source": [
        ""
      ],
      "execution_count": 0,
      "outputs": []
    }
  ]
}