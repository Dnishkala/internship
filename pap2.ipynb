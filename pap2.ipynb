{
  "nbformat": 4,
  "nbformat_minor": 0,
  "metadata": {
    "colab": {
      "name": "pap2.ipynb",
      "version": "0.3.2",
      "provenance": [],
      "include_colab_link": true
    },
    "kernelspec": {
      "name": "python3",
      "display_name": "Python 3"
    }
  },
  "cells": [
    {
      "cell_type": "markdown",
      "metadata": {
        "id": "view-in-github",
        "colab_type": "text"
      },
      "source": [
        "<a href=\"https://colab.research.google.com/github/Dnishkala/internship/blob/master/pap2.ipynb\" target=\"_parent\"><img src=\"https://colab.research.google.com/assets/colab-badge.svg\" alt=\"Open In Colab\"/></a>"
      ]
    },
    {
      "cell_type": "code",
      "metadata": {
        "id": "ZZfYh9JdE89v",
        "colab_type": "code",
        "colab": {
          "base_uri": "https://localhost:8080/",
          "height": 102
        },
        "outputId": "4b5a76a7-e01d-4e4a-a1e8-96cb1b690ef1"
      },
      "source": [
        "x=range(5, 10)\n",
        "for i in x:\n",
        "  print(i)"
      ],
      "execution_count": 1,
      "outputs": [
        {
          "output_type": "stream",
          "text": [
            "5\n",
            "6\n",
            "7\n",
            "8\n",
            "9\n"
          ],
          "name": "stdout"
        }
      ]
    },
    {
      "cell_type": "markdown",
      "metadata": {
        "id": "4qWRshogGkD8",
        "colab_type": "text"
      },
      "source": [
        "Multiple of 8 in range of 500"
      ]
    },
    {
      "cell_type": "code",
      "metadata": {
        "id": "9mZywqPRE-Yj",
        "colab_type": "code",
        "colab": {}
      },
      "source": [
        "x=range(500)\n",
        "for i in x:\n",
        "  print(i)"
      ],
      "execution_count": 0,
      "outputs": []
    },
    {
      "cell_type": "code",
      "metadata": {
        "id": "SbQZSe7AHNxE",
        "colab_type": "code",
        "colab": {
          "base_uri": "https://localhost:8080/",
          "height": 1000
        },
        "outputId": "71af91ad-9d2d-47ff-c2d1-6c7e0486aafc"
      },
      "source": [
        "multiple_8 =[n for n in range(1,500) if n % 8 == 0]\n",
        "multiple_8"
      ],
      "execution_count": 4,
      "outputs": [
        {
          "output_type": "execute_result",
          "data": {
            "text/plain": [
              "[8,\n",
              " 16,\n",
              " 24,\n",
              " 32,\n",
              " 40,\n",
              " 48,\n",
              " 56,\n",
              " 64,\n",
              " 72,\n",
              " 80,\n",
              " 88,\n",
              " 96,\n",
              " 104,\n",
              " 112,\n",
              " 120,\n",
              " 128,\n",
              " 136,\n",
              " 144,\n",
              " 152,\n",
              " 160,\n",
              " 168,\n",
              " 176,\n",
              " 184,\n",
              " 192,\n",
              " 200,\n",
              " 208,\n",
              " 216,\n",
              " 224,\n",
              " 232,\n",
              " 240,\n",
              " 248,\n",
              " 256,\n",
              " 264,\n",
              " 272,\n",
              " 280,\n",
              " 288,\n",
              " 296,\n",
              " 304,\n",
              " 312,\n",
              " 320,\n",
              " 328,\n",
              " 336,\n",
              " 344,\n",
              " 352,\n",
              " 360,\n",
              " 368,\n",
              " 376,\n",
              " 384,\n",
              " 392,\n",
              " 400,\n",
              " 408,\n",
              " 416,\n",
              " 424,\n",
              " 432,\n",
              " 440,\n",
              " 448,\n",
              " 456,\n",
              " 464,\n",
              " 472,\n",
              " 480,\n",
              " 488,\n",
              " 496]"
            ]
          },
          "metadata": {
            "tags": []
          },
          "execution_count": 4
        }
      ]
    },
    {
      "cell_type": "markdown",
      "metadata": {
        "id": "pTJJg9IqLx9x",
        "colab_type": "text"
      },
      "source": [
        "Sorting"
      ]
    },
    {
      "cell_type": "code",
      "metadata": {
        "id": "ywb0SHeKJnxv",
        "colab_type": "code",
        "colab": {
          "base_uri": "https://localhost:8080/",
          "height": 34
        },
        "outputId": "167ae179-ff05-414b-dea7-6b34e7c45e47"
      },
      "source": [
        "x=[4,6,1,9,7,3]\n",
        "x.sort()\n",
        "print(x)\n"
      ],
      "execution_count": 6,
      "outputs": [
        {
          "output_type": "stream",
          "text": [
            "[1, 3, 4, 6, 7, 9]\n"
          ],
          "name": "stdout"
        }
      ]
    },
    {
      "cell_type": "code",
      "metadata": {
        "id": "so4o4uZbL2fS",
        "colab_type": "code",
        "colab": {
          "base_uri": "https://localhost:8080/",
          "height": 34
        },
        "outputId": "3d88de8a-cdfe-4d40-e980-e241c49c57e0"
      },
      "source": [
        "x=[4,6,1,9,7,3]\n",
        "x.sort(reverse=True)\n",
        "print(x)"
      ],
      "execution_count": 12,
      "outputs": [
        {
          "output_type": "stream",
          "text": [
            "[9, 7, 6, 4, 3, 1]\n"
          ],
          "name": "stdout"
        }
      ]
    },
    {
      "cell_type": "markdown",
      "metadata": {
        "id": "QJDzbZDwLsuq",
        "colab_type": "text"
      },
      "source": [
        "String match"
      ]
    },
    {
      "cell_type": "code",
      "metadata": {
        "id": "_eoXZJ8VKGcQ",
        "colab_type": "code",
        "colab": {
          "base_uri": "https://localhost:8080/",
          "height": 34
        },
        "outputId": "29567efd-d059-4934-bd90-f3ebf54489b9"
      },
      "source": [
        "s=\"today is good\"\n",
        "'good' in s"
      ],
      "execution_count": 10,
      "outputs": [
        {
          "output_type": "execute_result",
          "data": {
            "text/plain": [
              "True"
            ]
          },
          "metadata": {
            "tags": []
          },
          "execution_count": 10
        }
      ]
    },
    {
      "cell_type": "code",
      "metadata": {
        "id": "6QZVHxGuMGgy",
        "colab_type": "code",
        "colab": {
          "base_uri": "https://localhost:8080/",
          "height": 68
        },
        "outputId": "bb4de7fc-60f8-4408-853f-8a30945be1ef"
      },
      "source": [
        "friend=['niahkala','yakshitha','meghana']\n",
        "for friends in friend:\n",
        "  print('happy new year:',friends)"
      ],
      "execution_count": 11,
      "outputs": [
        {
          "output_type": "stream",
          "text": [
            "happy new year: niahkala\n",
            "happy new year: yakshitha\n",
            "happy new year: meghana\n"
          ],
          "name": "stdout"
        }
      ]
    },
    {
      "cell_type": "code",
      "metadata": {
        "id": "4GMrfs4gOHsN",
        "colab_type": "code",
        "colab": {}
      },
      "source": [
        "friend=['mon','chan',]"
      ],
      "execution_count": 0,
      "outputs": []
    },
    {
      "cell_type": "code",
      "metadata": {
        "id": "2Xv_PJ3s-G0Y",
        "colab_type": "code",
        "colab": {}
      },
      "source": [
        ""
      ],
      "execution_count": 0,
      "outputs": []
    }
  ]
}